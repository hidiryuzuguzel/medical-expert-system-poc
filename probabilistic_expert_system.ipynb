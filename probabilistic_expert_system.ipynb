{
 "cells": [
  {
   "cell_type": "code",
   "execution_count": 1,
   "metadata": {},
   "outputs": [],
   "source": [
    "import numpy as np\n",
    "from inference_engine import make_engine, generate_data, infer_best_k"
   ]
  },
  {
   "cell_type": "code",
   "execution_count": 2,
   "metadata": {},
   "outputs": [],
   "source": [
    "S = 20 # Number of symptoms\n",
    "N = 10 # Number of diseases\n",
    "\n",
    "#np.random.seed(10)\n",
    "\n",
    "# Diseases/Symptom matrix\n",
    "D = np.random.rand(S, N) < 0.3\n",
    "\n",
    "# Prior probability of diseases\n",
    "pd = 0.1 * np.ones((N,1))\n",
    "\n",
    "eng = make_engine(D, theta0=0.99, theta=0.02 * np.ones((S,1)), pd=pd)"
   ]
  },
  {
   "cell_type": "code",
   "execution_count": 3,
   "metadata": {},
   "outputs": [
    {
     "data": {
      "text/plain": [
       "array([[1, 0, 1, 1, 1, 0, 0, 0, 1, 1],\n",
       "       [0, 0, 1, 0, 0, 1, 0, 0, 0, 1],\n",
       "       [0, 1, 0, 0, 1, 0, 0, 0, 0, 1],\n",
       "       [1, 1, 0, 0, 0, 0, 0, 0, 1, 0],\n",
       "       [0, 0, 0, 0, 0, 0, 0, 0, 0, 1],\n",
       "       [0, 0, 0, 1, 1, 0, 0, 0, 0, 0],\n",
       "       [0, 0, 0, 0, 0, 0, 0, 0, 0, 1],\n",
       "       [1, 0, 1, 0, 0, 0, 1, 1, 0, 0],\n",
       "       [0, 0, 0, 0, 1, 0, 0, 0, 0, 0],\n",
       "       [0, 1, 1, 0, 1, 0, 0, 0, 0, 0],\n",
       "       [1, 0, 0, 0, 0, 0, 1, 1, 1, 0],\n",
       "       [0, 1, 1, 0, 0, 0, 1, 0, 0, 1],\n",
       "       [0, 0, 0, 0, 0, 1, 1, 0, 0, 0],\n",
       "       [0, 0, 0, 0, 0, 0, 0, 0, 0, 0],\n",
       "       [0, 0, 1, 0, 1, 0, 1, 0, 0, 1],\n",
       "       [0, 1, 1, 0, 0, 1, 0, 1, 0, 1],\n",
       "       [0, 0, 0, 0, 0, 0, 0, 1, 0, 1],\n",
       "       [0, 0, 1, 1, 0, 0, 0, 0, 1, 1],\n",
       "       [0, 0, 0, 1, 0, 0, 0, 1, 1, 0],\n",
       "       [0, 0, 1, 1, 0, 0, 0, 1, 1, 0]])"
      ]
     },
     "execution_count": 3,
     "metadata": {},
     "output_type": "execute_result"
    }
   ],
   "source": [
    "D.astype(int)"
   ]
  },
  {
   "cell_type": "code",
   "execution_count": 4,
   "metadata": {},
   "outputs": [],
   "source": [
    "dt, st = generate_data(eng)"
   ]
  },
  {
   "cell_type": "code",
   "execution_count": 5,
   "metadata": {},
   "outputs": [
    {
     "data": {
      "text/plain": [
       "array([[0],\n",
       "       [1],\n",
       "       [0],\n",
       "       [0],\n",
       "       [0],\n",
       "       [0],\n",
       "       [0],\n",
       "       [0],\n",
       "       [0],\n",
       "       [0]])"
      ]
     },
     "execution_count": 5,
     "metadata": {},
     "output_type": "execute_result"
    }
   ],
   "source": [
    "dt.astype(int)"
   ]
  },
  {
   "cell_type": "code",
   "execution_count": 6,
   "metadata": {},
   "outputs": [
    {
     "name": "stdout",
     "output_type": "stream",
     "text": [
      "Symptom1:1 \n",
      "Symptom2:0 \n",
      "Symptom3:1 \n",
      "Symptom5:0 \n",
      "Symptom7:0 \n",
      "Diagnosis:\n",
      "Disease5\n"
     ]
    }
   ],
   "source": [
    "idx = np.array([0, 1, 2, 4, 6])\n",
    "\n",
    "best_k = 5\n",
    "\n",
    "conf, lP = infer_best_k(eng, idx, st[idx], best_k);\n",
    "\n",
    "for i in idx:\n",
    "    print(\"%s:%d \" %(eng[\"sn\"][i], st[i]))\n",
    "\n",
    "print(\"Diagnosis:\")\n",
    "diag = [eng[\"dn\"][idx] for idx in range(eng[\"N\"]) if conf[0, :][idx]]\n",
    "print(*diag, sep = \", \")  "
   ]
  }
 ],
 "metadata": {
  "kernelspec": {
   "display_name": "Python 3",
   "language": "python",
   "name": "python3"
  },
  "language_info": {
   "codemirror_mode": {
    "name": "ipython",
    "version": 3
   },
   "file_extension": ".py",
   "mimetype": "text/x-python",
   "name": "python",
   "nbconvert_exporter": "python",
   "pygments_lexer": "ipython3",
   "version": "3.6.7"
  }
 },
 "nbformat": 4,
 "nbformat_minor": 2
}
